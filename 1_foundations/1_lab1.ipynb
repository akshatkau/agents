{
 "cells": [
  {
   "cell_type": "markdown",
   "metadata": {},
   "source": [
    "# Welcome to the start of your adventure in Agentic AI"
   ]
  },
  {
   "cell_type": "markdown",
   "metadata": {},
   "source": [
    "<table style=\"margin: 0; text-align: left; width:100%\">\n",
    "    <tr>\n",
    "        <td style=\"width: 150px; height: 150px; vertical-align: middle;\">\n",
    "            <img src=\"../assets/stop.png\" width=\"150\" height=\"150\" style=\"display: block;\" />\n",
    "        </td>\n",
    "        <td>\n",
    "            <h2 style=\"color:#ff7800;\">Are you ready for action??</h2>\n",
    "            <span style=\"color:#ff7800;\">Have you completed all the setup steps in the <a href=\"../setup/\">setup</a> folder?<br/>\n",
    "            Have you read the <a href=\"../README.md\">README</a>? Many common questions are answered here!<br/>\n",
    "            Have you checked out the guides in the <a href=\"../guides/01_intro.ipynb\">guides</a> folder?<br/>\n",
    "            Well in that case, you're ready!!\n",
    "            </span>\n",
    "        </td>\n",
    "    </tr>\n",
    "</table>"
   ]
  },
  {
   "cell_type": "markdown",
   "metadata": {},
   "source": [
    "<table style=\"margin: 0; text-align: left; width:100%\">\n",
    "    <tr>\n",
    "        <td style=\"width: 150px; height: 150px; vertical-align: middle;\">\n",
    "            <img src=\"../assets/tools.png\" width=\"150\" height=\"150\" style=\"display: block;\" />\n",
    "        </td>\n",
    "        <td>\n",
    "            <h2 style=\"color:#00bfff;\">This code is a live resource - keep an eye out for my updates</h2>\n",
    "            <span style=\"color:#00bfff;\">I push updates regularly. As people ask questions or have problems, I add more examples and improve explanations. As a result, the code below might not be identical to the videos, as I've added more steps and better comments. Consider this like an interactive book that accompanies the lectures.<br/><br/>\n",
    "            I try to send emails regularly with important updates related to the course. You can find this in the 'Announcements' section of Udemy in the left sidebar. You can also choose to receive my emails via your Notification Settings in Udemy. I'm respectful of your inbox and always try to add value with my emails!\n",
    "            </span>\n",
    "        </td>\n",
    "    </tr>\n",
    "</table>"
   ]
  },
  {
   "cell_type": "markdown",
   "metadata": {},
   "source": [
    "### And please do remember to contact me if I can help\n",
    "\n",
    "And I love to connect: https://www.linkedin.com/in/eddonner/\n",
    "\n",
    "\n",
    "### New to Notebooks like this one? Head over to the guides folder!\n",
    "\n",
    "Just to check you've already added the Python and Jupyter extensions to Cursor, if not already installed:\n",
    "- Open extensions (View >> extensions)\n",
    "- Search for python, and when the results show, click on the ms-python one, and Install it if not already installed\n",
    "- Search for jupyter, and when the results show, click on the Microsoft one, and Install it if not already installed  \n",
    "Then View >> Explorer to bring back the File Explorer.\n",
    "\n",
    "And then:\n",
    "1. Click where it says \"Select Kernel\" near the top right, and select the option called `.venv (Python 3.12.9)` or similar, which should be the first choice or the most prominent choice. You may need to choose \"Python Environments\" first.\n",
    "2. Click in each \"cell\" below, starting with the cell immediately below this text, and press Shift+Enter to run\n",
    "3. Enjoy!\n",
    "\n",
    "After you click \"Select Kernel\", if there is no option like `.venv (Python 3.12.9)` then please do the following:  \n",
    "1. On Mac: From the Cursor menu, choose Settings >> VS Code Settings (NOTE: be sure to select `VSCode Settings` not `Cursor Settings`);  \n",
    "On Windows PC: From the File menu, choose Preferences >> VS Code Settings(NOTE: be sure to select `VSCode Settings` not `Cursor Settings`)  \n",
    "2. In the Settings search bar, type \"venv\"  \n",
    "3. In the field \"Path to folder with a list of Virtual Environments\" put the path to the project root, like C:\\Users\\username\\projects\\agents (on a Windows PC) or /Users/username/projects/agents (on Mac or Linux).  \n",
    "And then try again.\n",
    "\n",
    "Having problems with missing Python versions in that list? Have you ever used Anaconda before? It might be interferring. Quit Cursor, bring up a new command line, and make sure that your Anaconda environment is deactivated:    \n",
    "`conda deactivate`  \n",
    "And if you still have any problems with conda and python versions, it's possible that you will need to run this too:  \n",
    "`conda config --set auto_activate_base false`  \n",
    "and then from within the Agents directory, you should be able to run `uv python list` and see the Python 3.12 version."
   ]
  },
  {
   "cell_type": "code",
   "execution_count": 1,
   "metadata": {},
   "outputs": [],
   "source": [
    "# First let's do an import. If you get an Import Error, double check that your Kernel is correct..\n",
    "\n",
    "from dotenv import load_dotenv\n"
   ]
  },
  {
   "cell_type": "code",
   "execution_count": 2,
   "metadata": {},
   "outputs": [
    {
     "data": {
      "text/plain": [
       "True"
      ]
     },
     "execution_count": 2,
     "metadata": {},
     "output_type": "execute_result"
    }
   ],
   "source": [
    "# Next it's time to load the API keys into environment variables\n",
    "# If this returns false, see the next cell!\n",
    "\n",
    "load_dotenv(override=True)"
   ]
  },
  {
   "cell_type": "markdown",
   "metadata": {},
   "source": [
    "### Wait, did that just output `False`??\n",
    "\n",
    "If so, the most common reason is that you didn't save your `.env` file after adding the key! Be sure to have saved.\n",
    "\n",
    "Also, make sure the `.env` file is named precisely `.env` and is in the project root directory (`agents`)\n",
    "\n",
    "By the way, your `.env` file should have a stop symbol next to it in Cursor on the left, and that's actually a good thing: that's Cursor saying to you, \"hey, I realize this is a file filled with secret information, and I'm not going to send it to an external AI to suggest changes, because your keys should not be shown to anyone else.\""
   ]
  },
  {
   "cell_type": "markdown",
   "metadata": {},
   "source": [
    "<table style=\"margin: 0; text-align: left; width:100%\">\n",
    "    <tr>\n",
    "        <td style=\"width: 150px; height: 150px; vertical-align: middle;\">\n",
    "            <img src=\"../assets/stop.png\" width=\"150\" height=\"150\" style=\"display: block;\" />\n",
    "        </td>\n",
    "        <td>\n",
    "            <h2 style=\"color:#ff7800;\">Final reminders</h2>\n",
    "            <span style=\"color:#ff7800;\">1. If you're not confident about Environment Variables or Web Endpoints / APIs, please read Topics 3 and 5 in this <a href=\"../guides/04_technical_foundations.ipynb\">technical foundations guide</a>.<br/>\n",
    "            2. If you want to use AIs other than OpenAI, like Gemini, DeepSeek or Ollama (free), please see the first section in this <a href=\"../guides/09_ai_apis_and_ollama.ipynb\">AI APIs guide</a>.<br/>\n",
    "            3. If you ever get a Name Error in Python, you can always fix it immediately; see the last section of this <a href=\"../guides/06_python_foundations.ipynb\">Python Foundations guide</a> and follow both tutorials and exercises.<br/>\n",
    "            </span>\n",
    "        </td>\n",
    "    </tr>\n",
    "</table>"
   ]
  },
  {
   "cell_type": "code",
   "execution_count": 3,
   "metadata": {},
   "outputs": [
    {
     "name": "stdout",
     "output_type": "stream",
     "text": [
      "OpenAI API Key exists with sk-proj-\n"
     ]
    }
   ],
   "source": [
    "import os\n",
    "openai_api_key= os.getenv('OPENAI_API_KEY')\n",
    "\n",
    "if openai_api_key:\n",
    "    print(f\"OpenAI API Key exists with {openai_api_key[:8]}\")\n",
    "else:\n",
    "    print(\"Doesn't exist.\")"
   ]
  },
  {
   "cell_type": "code",
   "execution_count": 4,
   "metadata": {},
   "outputs": [],
   "source": [
    "# And now - the all important import statement\n",
    "# If you get an import error - head over to troubleshooting in the Setup folder\n",
    "# Even for other LLM providers like Gemini, you still use this OpenAI import - see Guide 9 for why\n",
    "\n",
    "from openai import OpenAI"
   ]
  },
  {
   "cell_type": "code",
   "execution_count": 5,
   "metadata": {},
   "outputs": [],
   "source": [
    "# And now we'll create an instance of the OpenAI class\n",
    "# If you're not sure what it means to create an instance of a class - head over to the guides folder (guide 6)!\n",
    "# If you get a NameError - head over to the guides folder (guide 6)to learn about NameErrors - always instantly fixable\n",
    "# If you're not using OpenAI, you just need to slightly modify this - precise instructions are in the AI APIs guide (guide 9)\n",
    "\n",
    "openai = OpenAI()"
   ]
  },
  {
   "cell_type": "code",
   "execution_count": 6,
   "metadata": {},
   "outputs": [],
   "source": [
    "# Create a list of messages in the familiar OpenAI format\n",
    "\n",
    "messages = [{\"role\": \"user\", \"content\": \"If five machines take five minutes to make five widgets, how long would 100 machines take to make 100 widgets?\"}]"
   ]
  },
  {
   "cell_type": "code",
   "execution_count": 7,
   "metadata": {},
   "outputs": [
    {
     "name": "stdout",
     "output_type": "stream",
     "text": [
      "5 minutes.\n",
      "\n",
      "Reason: 5 machines make 5 widgets in 5 minutes, so the combined rate is 1 widget per minute (or 1/5 widget per minute per machine). With 100 machines, the rate is 100 × (1/5) = 20 widgets per minute. To make 100 widgets: 100 ÷ 20 = 5 minutes.\n"
     ]
    }
   ],
   "source": [
    "response = openai.chat.completions.create(\n",
    "    model = 'gpt-5-nano-2025-08-07',\n",
    "    messages = messages\n",
    ")\n",
    "\n",
    "print(response.choices[0].message.content)"
   ]
  },
  {
   "cell_type": "code",
   "execution_count": 8,
   "metadata": {},
   "outputs": [],
   "source": [
    "# And now - let's ask for a question:\n",
    "\n",
    "question = \"Please propose a hard, challenging question to assess someone's IQ. Respond only with the question.\"\n",
    "messages = [{\"role\": \"user\", \"content\": question}]\n"
   ]
  },
  {
   "cell_type": "code",
   "execution_count": 9,
   "metadata": {},
   "outputs": [
    {
     "name": "stdout",
     "output_type": "stream",
     "text": [
      "If 2 typists can type 2 pages in 2 minutes, how many typists will it take to type 18 pages in 6 minutes?\n"
     ]
    }
   ],
   "source": [
    "# ask it - this uses GPT 4.1 mini, still cheap but more powerful than nano\n",
    "\n",
    "response = openai.chat.completions.create(\n",
    "    model=\"gpt-4.1-mini\",\n",
    "    messages=messages\n",
    ")\n",
    "\n",
    "question = response.choices[0].message.content\n",
    "\n",
    "print(question)\n"
   ]
  },
  {
   "cell_type": "code",
   "execution_count": 10,
   "metadata": {},
   "outputs": [],
   "source": [
    "# form a new messages list\n",
    "messages = [{\"role\": \"user\", \"content\": question}]\n"
   ]
  },
  {
   "cell_type": "code",
   "execution_count": 11,
   "metadata": {},
   "outputs": [
    {
     "name": "stdout",
     "output_type": "stream",
     "text": [
      "6 typists.\n",
      "\n",
      "Reason: 2 typists together type 2 pages in 2 minutes, so their combined rate is 1 page per minute. That’s 0.5 pages per minute per typist. To type 18 pages in 6 minutes, we need a total rate of 18/6 = 3 pages per minute. With each typist at 0.5 pages/min, we need 3 / 0.5 = 6 typists.\n"
     ]
    }
   ],
   "source": [
    "# Ask it again\n",
    "\n",
    "response = openai.chat.completions.create(\n",
    "    model=\"gpt-5-nano-2025-08-07\",\n",
    "    messages=messages\n",
    ")\n",
    "\n",
    "answer = response.choices[0].message.content\n",
    "print(answer)\n"
   ]
  },
  {
   "cell_type": "code",
   "execution_count": 12,
   "metadata": {},
   "outputs": [
    {
     "data": {
      "text/markdown": [
       "6 typists.\n",
       "\n",
       "Reason: 2 typists together type 2 pages in 2 minutes, so their combined rate is 1 page per minute. That’s 0.5 pages per minute per typist. To type 18 pages in 6 minutes, we need a total rate of 18/6 = 3 pages per minute. With each typist at 0.5 pages/min, we need 3 / 0.5 = 6 typists."
      ],
      "text/plain": [
       "<IPython.core.display.Markdown object>"
      ]
     },
     "metadata": {},
     "output_type": "display_data"
    }
   ],
   "source": [
    "from IPython.display import Markdown, display\n",
    "\n",
    "display(Markdown(answer))\n",
    "\n"
   ]
  },
  {
   "cell_type": "markdown",
   "metadata": {},
   "source": [
    "# Congratulations!\n",
    "\n",
    "That was a small, simple step in the direction of Agentic AI, with your new environment!\n",
    "\n",
    "Next time things get more interesting..."
   ]
  },
  {
   "cell_type": "markdown",
   "metadata": {},
   "source": [
    "<table style=\"margin: 0; text-align: left; width:100%\">\n",
    "    <tr>\n",
    "        <td style=\"width: 150px; height: 150px; vertical-align: middle;\">\n",
    "            <img src=\"../assets/exercise.png\" width=\"150\" height=\"150\" style=\"display: block;\" />\n",
    "        </td>\n",
    "        <td>\n",
    "            <h2 style=\"color:#ff7800;\">Exercise</h2>\n",
    "            <span style=\"color:#ff7800;\">Now try this commercial application:<br/>\n",
    "            First ask the LLM to pick a business area that might be worth exploring for an Agentic AI opportunity.<br/>\n",
    "            Then ask the LLM to present a pain-point in that industry - something challenging that might be ripe for an Agentic solution.<br/>\n",
    "            Finally have 3 third LLM call propose the Agentic AI solution. <br/>\n",
    "            We will cover this at up-coming labs, so don't worry if you're unsure.. just give it a try!\n",
    "            </span>\n",
    "        </td>\n",
    "    </tr>\n",
    "</table>"
   ]
  },
  {
   "cell_type": "code",
   "execution_count": 13,
   "metadata": {},
   "outputs": [
    {
     "name": "stdout",
     "output_type": "stream",
     "text": [
      "One strong application: an Autonomous Career Agent for job seekers\n",
      "\n",
      "What it is\n",
      "- A goal-driven AI agent that autonomously manages a job search on behalf of a user, from market monitoring to offer negotiation, with human oversight and consent baked in.\n",
      "- It acts as a proactive, personalized talent partner: it continuously scans opportunities, applies or queues applications, prepares for interviews, and even negotiates compensation within user-defined bounds.\n",
      "\n",
      "How it works (high level)\n",
      "- User setup and constraints: the user provides goals (target roles, industries, location, remote preference), salary/benefits ranges, visa/work authorization, and any deals-breakers. Privacy and consent controls are front and center.\n",
      "- Market intelligence and matching: the agent ingests data from job boards, company sites, LinkedIn, and recruiters. It builds a dynamic profile of the user’s skills, experiences, and career trajectory, and ranks opportunities by fit and expected value (fit, growth, compensation).\n",
      "- Autonomous action loop:\n",
      "  - Apply or cue: drafts tailored applications, cover messages, and portfolios; submits on the user’s behalf or flags for user review.\n",
      "  - Interview prep: schedules interviews when possible, generates mock questions, research briefs on companies, and trackers for each stage.\n",
      "  - Offer management: when offers appear, evaluates them against user constraints, and negotiates salary, signing bonuses, start dates, and remote/flex options within predefined limits.\n",
      "- Oversight and explainability: all autonomous actions are logged with rationales and can be paused, overridden, or escalated to a human user at any time.\n",
      "\n",
      "Value proposition\n",
      "- Time savings: automates repetitive parts of the job hunt (searching, applying, follow-ups).\n",
      "- Improved fit and outcomes: data-driven matching and proactive negotiation can increase interview-to-offer rates and total compensation.\n",
      "- Personalization at scale: learns the user’s preferences over time and tunes outreach, tailoring, and negotiation style accordingly.\n",
      "- Accessibility and consistency: helps candidates who may have limited networks or resume-writing resources to compete more effectively.\n",
      "\n",
      "Example workflow\n",
      "1) Day 0: User defines goals (e.g., product management roles in fintech, remote, $120k-$150k, open to offers in the next 60 days). Agent downloads resume, extracts skills, identifies gaps, and suggests upskilling (e.g., certificates or projects).\n",
      "2) Daily loop: scans multiple job sources, scores top roles, drafts customized applications, and sends them with personalized messages. Queues those requiring user review if needed.\n",
      "3) Interview phase: when interviews are booked, agent provides company briefs, generates mock questions, and schedules prep sessions. It also tracks feedback to refine future applications.\n",
      "4) Offers: upon receiving an offer, agent compares against user constraints, suggests negotiation levers (salary, sign-on, equity, start date), drafts counteroffers, and communicates with the recruiter while keeping the user in the loop.\n",
      "5) Onboarding support: once accepted, it helps with logistics (documents, start date, benefits enrollment) and monitors for early performance feedback to adjust future searches.\n",
      "\n",
      "Key considerations and guardrails\n",
      "- Safety and ethics: operates only with explicit user consent, keeps a clear audit trail, and includes human-in-the-loop for final offer approvals and any sensitive negotiations.\n",
      "- Privacy and data control: data is stored securely, with access controls and user-approved data sharing only.\n",
      "- Bias and fairness: uses bias-aware matching and regularly audits for disparate impact; provides transparent explanations for why certain roles are recommended or excluded.\n",
      "- Platform compliance: respects terms of service of job sites and ATSs; avoids aggressive scraping or misrepresentation.\n",
      "\n",
      "Potential metrics\n",
      "- Time-to-first-interview, interview-to-offer, and time-to-offer reductions.\n",
      "- Offer-value uplift (salary, signing bonus, benefits) achieved via negotiation.\n",
      "- Applicant-to-offer conversion rate improvements.\n",
      "- User satisfaction and perceived fit over time.\n",
      "\n",
      "If you’d like, I can tailor this concept to a specific audience (e.g., students, mid-career professionals, researchers) or outline a minimal viable product (MVP) version with a feature-by-feature spec and a simple tech stack.\n"
     ]
    }
   ],
   "source": [
    "question = \"Suggest an application of agentic AI in job market.\"\n",
    "messages = [{\"role\": \"user\", \"content\":question}]\n",
    "\n",
    "response= openai.chat.completions.create(\n",
    "    model = 'gpt-5-nano-2025-08-07',\n",
    "    messages= messages\n",
    ")\n",
    "\n",
    "question = response.choices[0].message.content\n",
    "print(question)"
   ]
  },
  {
   "cell_type": "code",
   "execution_count": 14,
   "metadata": {},
   "outputs": [
    {
     "name": "stdout",
     "output_type": "stream",
     "text": [
      "Here’s a practical playbook for using agentic AI to benefit your own job search and gain an edge in a crowded market.\n",
      "\n",
      "What “agentic AI” can do for you\n",
      "- Proactive market intelligence: continuously maps demand by industry, role, and location; spots rising skills and hollow gaps in your profile.\n",
      "- Personal, job-specific outreach: automatically tailors resumes, cover letters, and messages to each listing or recruiter, with human-in-the-loop review.\n",
      "- Interview readiness on autopilot: schedules mock interviews, builds company briefs, and tracks feedback to improve future performance.\n",
      "- Offer evaluation and negotiation support: compares offers against your constraints, suggests negotiation levers, and drafts counteroffers.\n",
      "- Networking amplifier: identifies warm-intro opportunities, drafts outreach emails, and tracks progress with recruiters, managers, and mentors.\n",
      "- Portfolio and personal brand enabler: helps you create impact-driven case studies, side projects, and thought leadership content that demonstrates value.\n",
      "\n",
      "High-leverage use cases to start with\n",
      "- Targeted applications: generate a tailored resume and a 1-page portfolio snippet for each job description, plus an outreach message that references the company’s recent news.\n",
      "- Interview prep at scale: for each company, generate a briefing deck (problem space, metrics, your relevant impact) and a set of 10–15 mock questions with model answers.\n",
      "- Salary and benefits planning: pull market data for similar roles in your region, build a live “offer evaluator” with your minimums, preferred ranges, and deal-breakers.\n",
      "- Networking flywheel: identify 3–5 recruiters or team leads per target company and craft personalized, relevant messages with a clear ask (e.g., a brief intro call).\n",
      "\n",
      "How to set up a practical system (high level)\n",
      "- Define your constraints and goals\n",
      "  - Target roles, industries, locations, remote/flexibility, visa/work status.\n",
      "  - Minimum/target compensation, equity, signing bonus, benefits, start date, remote options.\n",
      "  - Deal-breakers and red flags (e.g., travel, management style).\n",
      "- Gather your data\n",
      "  - Updated resume and key achievements (quantified results), LinkedIn profile, portfolio links, snippets of past projects.\n",
      "  - A short “value proposition” statement that you want to lead with.\n",
      "- Choose a safe, auditable setup\n",
      "  - Use a personal workspace with clear review checkpoints. Keep all decisions and rationales human-in-the-loop, with the agent making only draft suggestions until you approve.\n",
      "  - Policy guardrails: no automated sending without your explicit sign-off; maintain data privacy controls; respect platform terms of service.\n",
      "- Start simple, then expand\n",
      "  - MVP features: job monitoring and ranking, auto-generated tailored applications, basic interview prep, and a basic offer-evaluator.\n",
      "  - Later add: advanced negotiation playbooks, referral outreach, and a learning loop to improve suggestions over time.\n",
      "\n",
      "A practical 30/60/90-day plan\n",
      "- 0–30 days: foundation and pilot\n",
      "  - Define goal profiles and constraints; upload resume and portfolio.\n",
      "  - Run one pilot target list (e.g., 10–20 roles) and generate tailored applications and outreach messages.\n",
      "  - Build a company briefing template and 5–10 mock interview questions per target company.\n",
      "  - Set up an offer-evaluator with a few sample scenarios.\n",
      "- 31–60 days: expand and refine\n",
      "  - Scale to 50–100 targeted roles per week (with human review).  \n",
      "  - Start automated follow-ups after submissions and track recruiter responses.\n",
      "  - Begin proactive networking: draft 1–2 high-quality outreach messages per week, track responses.\n",
      "  - Add upskilling suggestions if gaps are found (courses, mini-projects, certifications) and track progress.\n",
      "- 61–90 days: optimize for outcomes\n",
      "  - Compare metrics (time-to-first-interview, interview-to-offer, offers accepted) against baseline.\n",
      "  - Refine value proposition and portfolio with real-world feedback.\n",
      "  - Introduce more sophisticated negotiation scenarios and a formal decision framework for offers.\n",
      "\n",
      "Templates you can adapt\n",
      "- Outreach message to a recruiter (short and personalized)\n",
      "  - Hi [Name], I’ve been following [Company]’s progress in [area] and I’m excited about the impact of [specific project/metrics]. I’m a [your role] with [X years] of experience in [relevant skills], including [one concrete achievement]. I’d love to discuss how my background could help [Company] achieve [goal]. Are you available for a 15-minute chat this week?\n",
      "- Follow-up after applying\n",
      "  - Hi [Name], I submitted my application for [Role] and wanted to highlight a relevant result: [quantified impact]. I’m very interested in contributing to [Company]’s [team/initiative]. If helpful, I can share a tailored portfolio piece or a quick case study. Thanks for your time.\n",
      "- Interview prep brief (per company)\n",
      "  - Company goals, recent news, product/tech stack, your aligned impact, 5–8 tailored questions, and 3–4 talking points that demonstrate your fit.\n",
      "\n",
      "Metrics to track\n",
      "- Time-to-first-interview, interview-to-offer, and time-to-offer.\n",
      "- Offer value: base salary, bonuses, equity, benefits, and start date alignment.\n",
      "- Response rates to outreach messages and quality of conversations (qualitative notes).\n",
      "- Progress on upskilling and portfolio enhancement.\n",
      "- Candidate-to-offer conversion rate improvements.\n",
      "\n",
      "Responsible guardrails and ethics\n",
      "- Human-in-the-loop: you must approve all drafts before sending; the agent should not act autonomously without your explicit go-ahead for each batch of actions.\n",
      "- Privacy and data control: store your data securely; limit data sharing with third parties; be mindful of platform terms (some sites prohibit automated submissions).\n",
      "- Bias awareness: monitor for biased recommendations; calibrate the agent to focus on objective signals like impact, not background noise.\n",
      "- Compliance and transparency: document what the agent did and why; keep an audit trail of actions and rationales.\n",
      "\n",
      "Advanced moves to stay ahead\n",
      "- Build a market-informed personal narrative\n",
      "  - Use data to craft a compelling story: “I’ve delivered X impact in Y context, now I bring Z capability to accelerate your [team/initiative].”\n",
      "- Portfolio as a living AI-ready asset\n",
      "  - Create reusable case studies or micro-projects tied to your target roles; automate updates to show recent results and ongoing learning.\n",
      "- Negotiation as a skill, not a one-off event\n",
      "  - Create an offer framework with anchored market data, your must-haves, and fallback options; use scenario planning to prepare counteroffers.\n",
      "- Strategic networking playbook\n",
      "  - Use AI to map your network’s warmth and relevance to target roles; schedule ongoing, value-driven touches (insights, resources, introductions).\n",
      "\n",
      "What to watch out for\n",
      "- Not all platforms allow automation; prioritize compliant channels and maintain quality in your applications.\n",
      "- Avoid over-automation that reduces authenticity; your unique story and real conversations matter most.\n",
      "- Ensure data privacy: never share sensitive personal details beyond what you’re comfortable with in automated workflows.\n",
      "\n",
      "If you want, tell me your target industry, role level, and a rough timeline. I can sketch a tailored MVP setup (data you’ll feed, suggested prompts for the agent, and a simple workflow) and even draft a first-round set of outreach messages and interview prep briefs you can start testing.\n"
     ]
    }
   ],
   "source": [
    "messages.append({\"role\":\"assistant\", \"content\":question})\n",
    "\n",
    "question_2= \"How can a job seeker use agentic AI for their own benefit, how can they be ahead of the rat race of job search?\"\n",
    "\n",
    "messages.append({\"role\":\"user\", \"content\":question_2})\n",
    "\n",
    "response = openai.chat.completions.create(\n",
    "    model = 'gpt-5-nano-2025-08-07',\n",
    "    messages= messages\n",
    ")\n",
    "\n",
    "answer = response.choices[0].message.content\n",
    "print(answer)"
   ]
  },
  {
   "cell_type": "code",
   "execution_count": 15,
   "metadata": {},
   "outputs": [
    {
     "name": "stdout",
     "output_type": "stream",
     "text": [
      "Here’s a practical, phased AI roadmap you can follow to build and adopt an agentic AI for your own job search, while staying ahead of the rat race.\n",
      "\n",
      "Vision\n",
      "- Build a personal, consent-driven AI assistant that autonomously monitors opportunities, drafts applications, prepares for interviews, and helps negotiate offers—with you in the loop for guardrails and final decisions.\n",
      "\n",
      "Phase 0 – MVP groundwork (0–4 weeks)\n",
      "Goals\n",
      "- Validate value and gain quick wins with a minimal, safe setup.\n",
      "Deliverables\n",
      "- Basic profile and constraints capture.\n",
      "- Simple job intake from a few sources (e.g., major boards, a couple of company sites).\n",
      "- Manual drafts for applications and a basic interview prep kit.\n",
      "Key features\n",
      "- Resume/LinkedIn parsing to build a candidate profile.\n",
      "- Job matching score against constraints (role, location, salary range, remote).\n",
      "- Drafted applications templates and a submission queue.\n",
      "- Consentable workflow with an audit trail.\n",
      "Metrics\n",
      "- Time-to-first-applied job, first interview booked, user satisfaction score.\n",
      "Risks & mitigations\n",
      "- Risk: violating terms of service or data misuse. Mitigation: explicit user consent, read-only feeds unless user approves actions.\n",
      "Data & integrations\n",
      "- Resume/LinkedIn data, job descriptions, user-defined constraints.\n",
      "\n",
      "Phase 1 – Automation of routine actions (1–3 months)\n",
      "Goals\n",
      "- Automate repetitive tasks with user oversight and safety controls.\n",
      "Deliverables\n",
      "- Auto-sourcing of top roles, auto-drafting of tailored applications, and queue submission with user review option.\n",
      "- Interview prep assistant: company briefs, mock questions, and scheduling support.\n",
      "Key features\n",
      "- Advanced matching: score roles by fit, growth, and compensation potential.\n",
      "- Auto-apply with templates; flag for user review when nuances matter (e.g., specific customization, sensitive roles).\n",
      "- Interview prep module: research briefs, mock Q&A, and calendar integration.\n",
      "- Basic offer evaluation prompts (compare to constraints; suggest negotiation levers).\n",
      "Metrics\n",
      "- Application rate, interview invitation rate, interview prep quality (user feedback), time saved.\n",
      "Risks & mitigations\n",
      "- Bias in ranking. Mitigation: bias checks, diverse candidate perspectives, explainable scores.\n",
      "Data & integrations\n",
      "- Job boards/APIs, ATS-friendly templates, calendar/meeting tools.\n",
      "\n",
      "Phase 2 – Personalization, explainability, and governance (3–6 months)\n",
      "Goals\n",
      "- Make actions transparent, controllable, and highly personalized to your career trajectory.\n",
      "Deliverables\n",
      "- Personal career graph and skill-gap analytics.\n",
      "- Explainable action rationales for drafts, schedules, and negotiation suggestions.\n",
      "- Privacy controls, data retention policies, and human-in-the-loop (HITL) review for high-stakes steps.\n",
      "Key features\n",
      "- Dynamic profile enrichment: tracks skills, projects, certifications, and outcomes.\n",
      "- Explainable AI logs: why a role was recommended, what was drafted, what was negotiated.\n",
      "- Consent-first governance: easy pause/override/elevate for any action.\n",
      "Metrics\n",
      "- Narrative quality of explanations, HITL intervention rate, user trust scores.\n",
      "Risks & mitigations\n",
      "- Privacy concerns. Mitigation: on-device/local processing where possible, strong encryption, transparent data flow.\n",
      "Data & integrations\n",
      "- Credential/store integrations, learning portals, signaling from user feedback.\n",
      "\n",
      "Phase 3 – Negotiation, upskilling, and portfolio signals (6–12 months)\n",
      "Goals\n",
      "- Extend to negotiation support and tangible signals of career progress.\n",
      "Deliverables\n",
      "- Offer evaluation engine with structured comparisons (salary, equity, benefits, remote options).\n",
      "- Negotiation playbooks within user-defined bounds.\n",
      "- Upskilling plan generator based on gaps from the profile and market trends.\n",
      "Key features\n",
      "- Offer comparison dashboards and suggested counter-offers with rationale.\n",
      "- Negotiation templates and automated, consented outreach to recruiters.\n",
      "- Upskill pathways: course recommendations, project ideas, portfolio prompts aligned to target roles.\n",
      "Metrics\n",
      "- Offer uplift achievable, time to accepted offer, learning engagement rates, portfolio strength indicators.\n",
      "Risks & mitigations\n",
      "- Overstep in negotiation. Mitigation: strict user-approved boundaries, escalation for sensitive decisions.\n",
      "Data & integrations\n",
      "- HRIS/ATS integrations for offers (where allowed), learning platforms, certification providers.\n",
      "\n",
      "Phase 4 – Scale, ecosystem, and advanced intelligence (12+ months)\n",
      "Goals\n",
      "- Build a broader, ecosystem-friendly toolset that can scale with your career needs.\n",
      "Deliverables\n",
      "- Multi-role, multi-domain career agent capable of handling complex searches (e.g., pivot roles, startups, academia).\n",
      "- Portfolio-based signals: projects, publications, side projects, and impact metrics that boost candidacy.\n",
      "- Advanced market intelligence: trend-aware suggestions (in-demand skills, offer norms by region/industry).\n",
      "Key features\n",
      "- Career graph analytics: trajectory planning, risk scoring, and projected outcomes under different paths.\n",
      "- Proactive opportunity generation: agent suggests opportunities before you even search, based on growth potential.\n",
      "- Cross-platform governance: consistent privacy and compliance across tools.\n",
      "Metrics\n",
      "- Long-term career progression indicators, time-to-role advancement, and satisfaction metrics.\n",
      "Risks & mitigations\n",
      "- Data drift and privacy complexity. Mitigation: continuous privacy audits, user-controlled data sharing, and de-identification where possible.\n",
      "Data & integrations\n",
      "- Wide array of data sources, portfolio hosting platforms, professional networks.\n",
      "\n",
      "What to build first (MVP) – a concrete spec\n",
      "- Core profile: extract skills, roles, location, remote preference, salary floor/ceil, visa/work rights.\n",
      "- Job intake and scoring: pull from a couple of sources, compute fit score (skills alignment, role seniority, location, compensation range).\n",
      "- Drafting templates: one-click tailored applications and cover notes.\n",
      "- Consent and audit: every action logged with rationale; easy pause/override.\n",
      "- Interview prep kit: company briefing, 5–10 mock questions, brief notes.\n",
      "- Offer evaluation starter: check salary against constraints, outline negotiation levers.\n",
      "Success criteria for MVP\n",
      "- At least 2–3 tailored applications submitted per week for a month.\n",
      "- First interview booked within 2–4 weeks.\n",
      "- Positive user feedback on explanations and control.\n",
      "\n",
      "What success looks like in practice\n",
      "- Shorter time from search to interview and from interview to offer.\n",
      "- Higher interview-to-offer conversion rate due to better fit and prep.\n",
      "- Clear, auditable decision trails and user trust in the agent’s actions.\n",
      "\n",
      "Key architecture and data considerations (high level)\n",
      "- Data sources: job boards, company portals, LinkedIn/company pages, user-provided documents.\n",
      "- Core AI components: resume/skill extraction, job-desc to profile embedding, matching and ranking, draft generation, explainability layer.\n",
      "- Orchestration: user interface, consent flows, HITL review, notifications, calendar integration.\n",
      "- Privacy and ethics: consent-first design, data minimization, encryption, access controls, bias monitoring, and explainability.\n",
      "- Guardrails: human-in-the-loop for final offers/negotiation, limits on automation for sensitive decisions.\n",
      "\n",
      "Tips to stay ahead of the rat race\n",
      "- Build a strong personal signal: maintain a dynamic portfolio (projects, code, case studies, impact metrics) that AI can reference to tailor outreach.\n",
      "- Continuous upskilling: let the AI propose targeted courses, micro-projects, and certifications aligned to your target roles.\n",
      "- Proactive branding: use AI-assisted resume and cover letters that emphasize measurable outcomes and impact, plus consistent messaging across networks.\n",
      "- Structured experiments: run controlled variations (different outreach angles, CV emphases) and track what yields better responses.\n",
      "- Network with intent: AI can help draft outreach to mentors, alumni, and recruiters with value-aligned proposals; combine with genuine relationship-building.\n",
      "- Ethical and compliant use: always respect platform terms, disclose automation when required, and keep human oversight for sensitive steps.\n",
      "\n",
      "KPIs to track\n",
      "- Time-to-first-interview, interview-to-offer, time-to-offer.\n",
      "- Offer value uplift (salary, equity, benefits) achieved through negotiation.\n",
      "- Responsiveness rate to outreach, and acceptance rate of offers.\n",
      "- User satisfaction, trust, and perceived control.\n",
      "\n",
      "If you’d like, I can tailor this roadmap to a specific audience (e.g., students, mid-career professionals, researchers) or provide a concise MVP spec with a minimal tech stack and a sprint plan.\n"
     ]
    }
   ],
   "source": [
    "messages.append({\"role\":\"assistant\",\"content\":question_2})\n",
    "\n",
    "answer_2 = \"Suggest an AI roadmap for the same then.\"\n",
    "\n",
    "messages.append({\"role\":\"user\", \"content\":answer_2})\n",
    "\n",
    "response=openai.chat.completions.create(\n",
    "    model = 'gpt-5-nano-2025-08-07',\n",
    "    messages= messages\n",
    ")\n",
    "\n",
    "answer = response.choices[0].message.content\n",
    "\n",
    "print(answer)"
   ]
  },
  {
   "cell_type": "markdown",
   "metadata": {},
   "source": []
  }
 ],
 "metadata": {
  "kernelspec": {
   "display_name": "agents",
   "language": "python",
   "name": "python3"
  },
  "language_info": {
   "codemirror_mode": {
    "name": "ipython",
    "version": 3
   },
   "file_extension": ".py",
   "mimetype": "text/x-python",
   "name": "python",
   "nbconvert_exporter": "python",
   "pygments_lexer": "ipython3",
   "version": "3.12.0"
  }
 },
 "nbformat": 4,
 "nbformat_minor": 2
}
